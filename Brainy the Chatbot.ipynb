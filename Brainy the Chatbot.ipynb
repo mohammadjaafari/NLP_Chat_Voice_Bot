{
 "cells": [
  {
   "cell_type": "markdown",
   "id": "3a78ea6b",
   "metadata": {},
   "source": [
    "### By Team#11(TR section): Mohammad Jaafari, Abdelrahman Elkadi and Nour Kallout"
   ]
  },
  {
   "cell_type": "markdown",
   "id": "62427871",
   "metadata": {},
   "source": [
    "### All imports:"
   ]
  },
  {
   "cell_type": "code",
   "execution_count": 1,
   "id": "8c135ce3",
   "metadata": {},
   "outputs": [],
   "source": [
    "import random #using random in order to randomly pick replies for brainy from lists\n",
    "from sklearn.metrics.pairwise import cosine_similarity, cosine_distances #needed for calculating the cosine similarity\n",
    "from scipy.spatial import distance #needed for cosine similarity\n",
    "from sklearn.feature_extraction.text import CountVectorizer #needed for vectorization\n",
    "from sklearn.feature_extraction.text import TfidfVectorizer #alternative vectorization from bag of words\n",
    "import warnings \n",
    "warnings.filterwarnings('ignore') #needed to filter warnings (aesthetic purposes)\n",
    "from gtts import gTTS #gtts is needed for google text to speech in order to get brainy's voice\n",
    "from nltk import pos_tag, word_tokenize, sent_tokenize #needed for tokenization\n",
    "import os #needed in order to download the brainy voice mp3 files\n",
    "from playsound import playsound #needed in order to play the sound in notebook\n",
    "import time #needed for mp3 brainy unique file name\n",
    "import pandas as pd #pandas is needed for vectorization and cosine similarity\n",
    "import speech_recognition as sr #needed for speech recognition\n",
    "r = sr.Recognizer()\n",
    "import itertools #needed to turn a 4D list into a 1D list\n",
    "import re #regex is needed to clean the paragraph"
   ]
  },
  {
   "cell_type": "markdown",
   "id": "974a09e3",
   "metadata": {},
   "source": [
    "# Module #1: Load and Preprocess text data."
   ]
  },
  {
   "cell_type": "code",
   "execution_count": 2,
   "id": "aff0a3f5",
   "metadata": {},
   "outputs": [
    {
     "name": "stdout",
     "output_type": "stream",
     "text": [
      "[[('Coronavirus', 'NNP'), ('disease', 'NN'), ('2019', 'CD'), ('(', '('), ('COVID-19', 'NNP'), (')', ')'), ('is', 'VBZ'), ('a', 'DT'), ('contagious', 'JJ'), ('disease', 'NN'), ('caused', 'VBN'), ('by', 'IN'), ('a', 'DT'), ('virus', 'NN'), (',', ','), ('the', 'DT'), ('severe', 'JJ'), ('acute', 'JJ'), ('respiratory', 'NN'), ('syndrome', 'NN'), ('coronavirus', 'NN'), ('2', 'CD'), ('(', '('), ('SARS-CoV-2', 'NNP'), (')', ')'), ('.', '.')], [('The', 'DT'), ('first', 'JJ'), ('known', 'JJ'), ('case', 'NN'), ('was', 'VBD'), ('identified', 'VBN'), ('in', 'IN'), ('Wuhan', 'NNP'), (',', ','), ('China', 'NNP'), (',', ','), ('in', 'IN'), ('December', 'NNP'), ('2019', 'CD'), ('.', '.')], [('[', 'RB'), ('7', 'CD'), (']', 'VBD'), ('The', 'DT'), ('disease', 'NN'), ('has', 'VBZ'), ('since', 'IN'), ('spread', 'VBN'), ('worldwide', 'NN'), (',', ','), ('leading', 'VBG'), ('to', 'TO'), ('an', 'DT'), ('ongoing', 'JJ'), ('pandemic', 'NN'), ('.', '.')], [('[', 'RB'), ('8', 'CD'), (']', 'NN'), ('Symptoms', 'NNP'), ('of', 'IN'), ('COVID‑19', 'NNP'), ('are', 'VBP'), ('variable', 'JJ'), (',', ','), ('but', 'CC'), ('often', 'RB'), ('include', 'VBP'), ('fever', 'RB'), (',', ','), ('[', 'VBD'), ('9', 'CD'), (']', 'JJ'), ('cough', 'NN'), (',', ','), ('headache', 'NN'), (',', ','), ('[', 'VBZ'), ('10', 'CD'), (']', 'NNP'), ('fatigue', 'NN'), (',', ','), ('breathing', 'VBG'), ('difficulties', 'NNS'), (',', ','), ('loss', 'NN'), ('of', 'IN'), ('smell', 'NN'), (',', ','), ('and', 'CC'), ('loss', 'NN'), ('of', 'IN'), ('taste', 'NN'), ('.', '.')], [('[', 'RB'), ('11', 'CD'), (']', 'JJ'), ('[', '$'), ('12', 'CD'), (']', 'NNP'), ('[', 'VBD'), ('13', 'CD'), (']', 'NN'), ('Symptoms', 'NNP'), ('may', 'MD'), ('begin', 'VB'), ('one', 'CD'), ('to', 'TO'), ('fourteen', 'VB'), ('days', 'NNS'), ('after', 'IN'), ('exposure', 'NN'), ('to', 'TO'), ('the', 'DT'), ('virus', 'NN'), ('.', '.')], [('At', 'IN'), ('least', 'JJS'), ('a', 'DT'), ('third', 'JJ'), ('of', 'IN'), ('people', 'NNS'), ('who', 'WP'), ('are', 'VBP'), ('infected', 'VBN'), ('do', 'VBP'), ('not', 'RB'), ('develop', 'VB'), ('noticeable', 'JJ'), ('symptoms', 'NNS'), ('.', '.')], [('[', 'RB'), ('14', 'CD'), (']', 'NN'), ('Of', 'IN'), ('those', 'DT'), ('people', 'NNS'), ('who', 'WP'), ('develop', 'VBP'), ('symptoms', 'NNS'), ('noticeable', 'JJ'), ('enough', 'RB'), ('to', 'TO'), ('be', 'VB'), ('classed', 'VBN'), ('as', 'IN'), ('patients', 'NNS'), (',', ','), ('most', 'JJS'), ('(', '('), ('81', 'CD'), ('%', 'NN'), (')', ')'), ('develop', 'VB'), ('mild', 'JJ'), ('to', 'TO'), ('moderate', 'VB'), ('symptoms', 'NNS'), ('(', '('), ('up', 'IN'), ('to', 'TO'), ('mild', 'VB'), ('pneumonia', 'NN'), (')', ')'), (',', ','), ('while', 'IN'), ('14', 'CD'), ('%', 'NN'), ('develop', 'NN'), ('severe', 'JJ'), ('symptoms', 'NNS'), ('(', '('), ('dyspnea', 'NN'), (',', ','), ('hypoxia', 'NN'), (',', ','), ('or', 'CC'), ('more', 'JJR'), ('than', 'IN'), ('50', 'CD'), ('%', 'NN'), ('lung', 'NN'), ('involvement', 'NN'), ('on', 'IN'), ('imaging', 'VBG'), (')', ')'), (',', ','), ('and', 'CC'), ('5', 'CD'), ('%', 'NN'), ('suffer', 'NN'), ('critical', 'JJ'), ('symptoms', 'NNS'), ('(', '('), ('respiratory', 'JJ'), ('failure', 'NN'), (',', ','), ('shock', 'NN'), (',', ','), ('or', 'CC'), ('multiorgan', 'JJ'), ('dysfunction', 'NN'), (')', ')'), ('.', '.')], [('[', 'RB'), ('15', 'CD'), (']', 'JJ'), ('Older', 'JJR'), ('people', 'NNS'), ('are', 'VBP'), ('at', 'IN'), ('a', 'DT'), ('higher', 'JJR'), ('risk', 'NN'), ('of', 'IN'), ('developing', 'VBG'), ('severe', 'JJ'), ('symptoms', 'NNS'), ('.', '.')], [('Some', 'DT'), ('people', 'NNS'), ('continue', 'VBP'), ('to', 'TO'), ('experience', 'VB'), ('a', 'DT'), ('range', 'NN'), ('of', 'IN'), ('effects', 'NNS'), ('(', '('), ('long', 'RB'), ('COVID', 'NNP'), (')', ')'), ('for', 'IN'), ('months', 'NNS'), ('after', 'IN'), ('recovery', 'NN'), (',', ','), ('and', 'CC'), ('damage', 'NN'), ('to', 'TO'), ('organs', 'NNS'), ('has', 'VBZ'), ('been', 'VBN'), ('observed', 'VBN'), ('.', '.')], [('[', 'RB'), ('16', 'CD'), (']', 'JJ'), ('Multi-year', 'JJ'), ('studies', 'NNS'), ('are', 'VBP'), ('underway', 'JJ'), ('to', 'TO'), ('further', 'JJ'), ('investigate', 'VB'), ('the', 'DT'), ('long-term', 'JJ'), ('effects', 'NNS'), ('of', 'IN'), ('the', 'DT'), ('disease', 'NN'), ('.', '.')], [('[', 'RB'), ('16', 'CD'), (']', 'JJ'), ('COVID‑19', 'NNP'), ('transmits', 'NNS'), ('when', 'WRB'), ('people', 'NNS'), ('breathe', 'VBP'), ('in', 'IN'), ('air', 'NN'), ('contaminated', 'VBN'), ('by', 'IN'), ('droplets', 'NNS'), ('and', 'CC'), ('small', 'JJ'), ('airborne', 'JJ'), ('particles', 'NNS'), ('containing', 'VBG'), ('the', 'DT'), ('virus', 'NN'), ('.', '.')], [('The', 'DT'), ('risk', 'NN'), ('of', 'IN'), ('breathing', 'VBG'), ('these', 'DT'), ('in', 'IN'), ('is', 'VBZ'), ('highest', 'JJS'), ('when', 'WRB'), ('people', 'NNS'), ('are', 'VBP'), ('in', 'IN'), ('close', 'JJ'), ('proximity', 'NN'), (',', ','), ('but', 'CC'), ('they', 'PRP'), ('can', 'MD'), ('be', 'VB'), ('inhaled', 'VBN'), ('over', 'IN'), ('longer', 'JJR'), ('distances', 'NNS'), (',', ','), ('particularly', 'RB'), ('indoors', 'NNS'), ('.', '.')], [('Transmission', 'NN'), ('can', 'MD'), ('also', 'RB'), ('occur', 'VB'), ('if', 'IN'), ('splashed', 'VBN'), ('or', 'CC'), ('sprayed', 'VBN'), ('with', 'IN'), ('contaminated', 'JJ'), ('fluids', 'NNS'), ('in', 'IN'), ('the', 'DT'), ('eyes', 'NNS'), (',', ','), ('nose', 'RB'), ('or', 'CC'), ('mouth', 'VB'), (',', ','), ('and', 'CC'), (',', ','), ('rarely', 'RB'), (',', ','), ('via', 'IN'), ('contaminated', 'VBN'), ('surfaces', 'NNS'), ('.', '.')], [('People', 'NNS'), ('remain', 'VBP'), ('contagious', 'JJ'), ('for', 'IN'), ('up', 'IN'), ('to', 'TO'), ('20', 'CD'), ('days', 'NNS'), (',', ','), ('and', 'CC'), ('can', 'MD'), ('spread', 'VB'), ('the', 'DT'), ('virus', 'NN'), ('even', 'RB'), ('if', 'IN'), ('they', 'PRP'), ('do', 'VBP'), ('not', 'RB'), ('develop', 'VB'), ('symptoms', 'NNS'), ('.', '.')], [('[', 'RB'), ('17', 'CD'), (']', 'JJ'), ('[', '$'), ('18', 'CD'), (']', 'NNP'), ('Several', 'JJ'), ('testing', 'VBG'), ('methods', 'NNS'), ('have', 'VBP'), ('been', 'VBN'), ('developed', 'VBN'), ('to', 'TO'), ('diagnose', 'VB'), ('the', 'DT'), ('disease', 'NN'), ('.', '.')], [('The', 'DT'), ('standard', 'JJ'), ('diagnostic', 'JJ'), ('method', 'NN'), ('is', 'VBZ'), ('by', 'IN'), ('detection', 'NN'), ('of', 'IN'), ('the', 'DT'), ('virus', 'NN'), (\"'s\", 'POS'), ('nucleic', 'JJ'), ('acid', 'NN'), ('by', 'IN'), ('real-time', 'JJ'), ('reverse', 'NN'), ('transcription', 'NN'), ('polymerase', 'NN'), ('chain', 'NN'), ('reaction', 'NN'), ('(', '('), ('rRT-PCR', 'JJ'), (')', ')'), (',', ','), ('transcription-mediated', 'JJ'), ('amplification', 'NN'), ('(', '('), ('TMA', 'NNP'), (')', ')'), (',', ','), ('or', 'CC'), ('by', 'IN'), ('reverse', 'JJ'), ('transcription', 'NN'), ('loop-mediated', 'JJ'), ('isothermal', 'JJ'), ('amplification', 'NN'), ('(', '('), ('RT-LAMP', 'NNP'), (')', ')'), ('from', 'IN'), ('a', 'DT'), ('nasopharyngeal', 'JJ'), ('swab.Several', 'JJ'), ('COVID-19', 'NNP'), ('vaccines', 'NNS'), ('have', 'VBP'), ('been', 'VBN'), ('approved', 'VBN'), ('and', 'CC'), ('distributed', 'VBN'), ('in', 'IN'), ('various', 'JJ'), ('countries', 'NNS'), (',', ','), ('which', 'WDT'), ('have', 'VBP'), ('initiated', 'VBN'), ('mass', 'NN'), ('vaccination', 'NN'), ('campaigns', 'NNS'), ('.', '.')], [('Other', 'JJ'), ('preventive', 'JJ'), ('measures', 'NNS'), ('include', 'VBP'), ('physical', 'JJ'), ('or', 'CC'), ('social', 'JJ'), ('distancing', 'NN'), (',', ','), ('quarantining', 'VBG'), (',', ','), ('ventilation', 'NN'), ('of', 'IN'), ('indoor', 'JJ'), ('spaces', 'NNS'), (',', ','), ('covering', 'VBG'), ('coughs', 'NNS'), ('and', 'CC'), ('sneezes', 'NNS'), (',', ','), ('hand', 'NN'), ('washing', 'NN'), (',', ','), ('and', 'CC'), ('keeping', 'VBG'), ('unwashed', 'JJ'), ('hands', 'NNS'), ('away', 'RB'), ('from', 'IN'), ('the', 'DT'), ('face', 'NN'), ('.', '.')], [('The', 'DT'), ('use', 'NN'), ('of', 'IN'), ('face', 'NN'), ('masks', 'NNS'), ('or', 'CC'), ('coverings', 'NNS'), ('has', 'VBZ'), ('been', 'VBN'), ('recommended', 'VBN'), ('in', 'IN'), ('public', 'JJ'), ('settings', 'NNS'), ('to', 'TO'), ('minimize', 'VB'), ('the', 'DT'), ('risk', 'NN'), ('of', 'IN'), ('transmission', 'NN'), ('.', '.')], [('While', 'IN'), ('work', 'NN'), ('is', 'VBZ'), ('underway', 'JJ'), ('to', 'TO'), ('develop', 'VB'), ('drugs', 'NNS'), ('that', 'WDT'), ('inhibit', 'VBP'), ('the', 'DT'), ('virus', 'NN'), (',', ','), ('the', 'DT'), ('primary', 'JJ'), ('treatment', 'NN'), ('is', 'VBZ'), ('symptomatic', 'JJ'), ('.', '.')], [('Management', 'NN'), ('involves', 'VBZ'), ('the', 'DT'), ('treatment', 'NN'), ('of', 'IN'), ('symptoms', 'NNS'), (',', ','), ('supportive', 'JJ'), ('care', 'NN'), (',', ','), ('isolation', 'NN'), (',', ','), ('and', 'CC'), ('experimental', 'JJ'), ('measures', 'NNS'), ('.', '.')]]\n"
     ]
    }
   ],
   "source": [
    "with open('covid.txt', 'r') as file:\n",
    "    content = file.read().replace('\\n', '') #transform file content to a string and remove empty lines for better processing.\n",
    "\n",
    "\n",
    "def preprocessing(document): #a simple preprocessing function for demonstration\n",
    "    sentences = sent_tokenize(document) #we sentence tokenize the document \n",
    "    sentences = [word_tokenize(sent) for sent in sentences] #we word tokenize the sentences\n",
    "    sentences = [pos_tag(sent) for sent in sentences] #we tag all words and return them\n",
    "    return(sentences)\n",
    "\n",
    "def turn_to_sentences(content): #needed to tidy and clean the paragraph\n",
    "    content = content.replace('â€‘', ' ') #we replace unneeded characters with blank characters\n",
    "    content = re.sub(r'\\[\\d+\\]', \"\", content) #we remove the wikipedia citation \n",
    "    return sent_tokenize(content) #we return the paragraph\n",
    "\n",
    "sentences = turn_to_sentences(content) #we turn the clean paragraph into sentences\n",
    "\n",
    "print(preprocessing(content)) #show pos tagging demonstration\n",
    "\n"
   ]
  },
  {
   "cell_type": "code",
   "execution_count": 3,
   "id": "068a274f",
   "metadata": {},
   "outputs": [
    {
     "data": {
      "text/plain": [
       "['Coronavirus disease 2019 (COVID-19) is a contagious disease caused by a virus, the severe acute respiratory syndrome coronavirus 2 (SARS-CoV-2).',\n",
       " 'The first known case was identified in Wuhan, China, in December 2019.',\n",
       " 'The disease has since spread worldwide, leading to an ongoing pandemic.Symptoms of COVID‑19 are variable, but often include fever, cough, headache, fatigue, breathing difficulties, loss of smell, and loss of taste.',\n",
       " 'Symptoms may begin one to fourteen days after exposure to the virus.',\n",
       " 'At least a third of people who are infected do not develop noticeable symptoms.',\n",
       " 'Of those people who develop symptoms noticeable enough to be classed as patients, most (81%) develop mild to moderate symptoms (up to mild pneumonia), while 14% develop severe symptoms (dyspnea, hypoxia, or more than 50% lung involvement on imaging), and 5% suffer critical symptoms (respiratory failure, shock, or multiorgan dysfunction).',\n",
       " 'Older people are at a higher risk of developing severe symptoms.',\n",
       " 'Some people continue to experience a range of effects (long COVID) for months after recovery, and damage to organs has been observed.',\n",
       " 'Multi-year studies are underway to further investigate the long-term effects of the disease.COVID‑19 transmits when people breathe in air contaminated by droplets and small airborne particles containing the virus.',\n",
       " 'The risk of breathing these in is highest when people are in close proximity, but they can be inhaled over longer distances, particularly indoors.',\n",
       " 'Transmission can also occur if splashed or sprayed with contaminated fluids in the eyes, nose or mouth, and, rarely, via contaminated surfaces.',\n",
       " 'People remain contagious for up to 20 days, and can spread the virus even if they do not develop symptoms.Several testing methods have been developed to diagnose the disease.',\n",
       " \"The standard diagnostic method is by detection of the virus's nucleic acid by real-time reverse transcription polymerase chain reaction (rRT-PCR), transcription-mediated amplification (TMA), or by reverse transcription loop-mediated isothermal amplification (RT-LAMP) from a nasopharyngeal swab.Several COVID-19 vaccines have been approved and distributed in various countries, which have initiated mass vaccination campaigns.\",\n",
       " 'Other preventive measures include physical or social distancing, quarantining, ventilation of indoor spaces, covering coughs and sneezes, hand washing, and keeping unwashed hands away from the face.',\n",
       " 'The use of face masks or coverings has been recommended in public settings to minimize the risk of transmission.',\n",
       " 'While work is underway to develop drugs that inhibit the virus, the primary treatment is symptomatic.',\n",
       " 'Management involves the treatment of symptoms, supportive care, isolation, and experimental measures.']"
      ]
     },
     "execution_count": 3,
     "metadata": {},
     "output_type": "execute_result"
    }
   ],
   "source": [
    "sentences #show our sentences that are in a list to use for brainy"
   ]
  },
  {
   "cell_type": "markdown",
   "id": "10f0c7bc",
   "metadata": {},
   "source": [
    "# Module #2: Greetings. & Module #6: Goodbyes."
   ]
  },
  {
   "cell_type": "markdown",
   "id": "74a407ac",
   "metadata": {},
   "source": [
    "### Kindly note that you will be able to test everything when you run the last cell in our notebook. "
   ]
  },
  {
   "cell_type": "code",
   "execution_count": 4,
   "id": "196c4bae",
   "metadata": {},
   "outputs": [],
   "source": [
    "greetings = ['hi','hello','good morning','morning','howdy','brainy'] #greetings for brainy to recognize\n",
    "\n",
    "goodbyes = ['bye','good bye','goodbye','bye brainy','brainy','bye-bye','bye bye'] #goodbyes for brainy to recognize\n",
    "\n",
    "greetings_response = ['Hello human!','Hello!','Good morning!'] #greetings to pick from randomly as replies\n",
    "\n",
    "goodbye_response = ['Goodbye human!', 'Bye human!'] #goodbyes to pick from randomly as replies\n",
    "\n",
    "speak = ['i need to speak',\"i will speak\",\"record for me\",\"get my input\",\"speak\"] #signals for brainy to get voice input from the user\n",
    "\n",
    "confused = 'I am sorry, I do not understand what you are asking me.' #confused reply\n"
   ]
  },
  {
   "cell_type": "markdown",
   "id": "ca53b8f8",
   "metadata": {},
   "source": [
    "# Module #4: Speech Recognition. & Module #5:"
   ]
  },
  {
   "cell_type": "code",
   "execution_count": 5,
   "id": "63b9d2e0",
   "metadata": {},
   "outputs": [],
   "source": [
    "def play(response): #function to play the sound of a response of brainy\n",
    "    tts = gTTS(text = response, lang = 'en',tld=\"com\") #we get the tts of the response off google translate\n",
    "    date_string = str(time.time()) \n",
    "    file1 = str(\"nlp\"+ date_string + \".mp3\") #we name it a unique name using current time in order to avoid errors\n",
    "    tts.save(file1) \n",
    "    playsound(file1)\n",
    "    os.remove(file1) #we save the sound file to play it, we play it, then we remove it\n",
    "    \n",
    "    \n",
    "def listen(): #function to listen for a response\n",
    "    with sr.Microphone() as source: #we use our microphone as a source\n",
    "        print(\"Brainy says: Talk\") #brainy signals for us to talk \n",
    "        play(\"Talk\") \n",
    "        audio_text = r.listen(source) #we listen and get an audio text\n",
    "        print(\"Brainy says: Time is over, thanks.\") #brainy signals for us to stop talking\n",
    "        play(\"Time is over, thanks.\")\n",
    "        try: #we check if we recognize the audio and return it if we do, else brainy signals for us that he did not\n",
    "            print(\"Text: \"+r.recognize_google(audio_text)) \n",
    "            return r.recognize_google(audio_text)\n",
    "        except:\n",
    "            print(\"Brainy says: Sorry, I did not get that.\")\n",
    "            play(\"Sorry, I did not get that.\")\n",
    "            return \"Sorry, I did not get that.\""
   ]
  },
  {
   "cell_type": "markdown",
   "id": "69a7d0e0",
   "metadata": {},
   "source": [
    "# Module #3: Text Vectorization and Similarity Measure."
   ]
  },
  {
   "cell_type": "code",
   "execution_count": 6,
   "id": "fc63b30d",
   "metadata": {},
   "outputs": [],
   "source": [
    "def similar(input): #find the most similar question to the unser input\n",
    "    cosines = [0,0,0,0,0]#a list containing cosine similarities with each of 5 questions \n",
    "    questions = [\"What is the coronavirus?\",\"What are the symptoms of the coronavirus?\",\"How does the coronavirus transmits?\"\n",
    "     ,\"What are the testing methods for the coronavirus?\",\"What are the preventative methods for the coronavirus?\"]\n",
    "#a list containing covid questions to get cosine similarities from \n",
    "    for i in range(5): #we check with all 5 questions\n",
    "        bow_list = [input,questions[i]] #we make a bag of words list \n",
    "        count_vector = CountVectorizer(ngram_range = (1, 1)) #we make a count vectorizer\n",
    "        bow = count_vector.fit_transform(bow_list) #we transform the bag of words list into a bag of words\n",
    "        bow_features = count_vector.get_feature_names() #we get the feature names \n",
    "        df = pd.DataFrame.sparse.from_spmatrix(bow, index=bow_list, columns=bow_features) #we create a dataframe for our bow\n",
    "        cosines[i] = cosine_similarity([list(df.iloc[0])], [list(df.iloc[1])]) #we get the consine similarities form\n",
    "        #the first and second rows in the dataframe \n",
    "\n",
    "    cosines = list(itertools.chain(*list(itertools.chain(*cosines)))) #since our cosines in the cosine list are in 4D\n",
    "    #we turn them into 1D elements of a list\n",
    "    \n",
    "    if max(cosines) < 0.5: #we have 0.5 as the threshold of our similarity, if all cosines are under 0.5 we return that\n",
    "        return confused    #brainy is confused\n",
    "    \n",
    "    index = cosines.index(max(cosines)) #we get the index of the maximum cosine similarity\n",
    "    \n",
    "    \n",
    "    if index == 0: #if its the first question that is most similar we return the reply for it which is the first sentence in \n",
    "        return sentences[0] #the paragraph\n",
    "    elif index == 1: #similar to above but its the 3rd sentence for the 2nd question\n",
    "        return sentences[3] \n",
    "    elif index == 2: #similar to above but its 3 sentence replies\n",
    "        return sentences[10] + \" \" +sentences[11] + \" \"+sentences[12]\n",
    "    elif index == 3: #similar to above but its 2 sentences reply\n",
    "        return sentences[14] + \" \" +sentences[15]\n",
    "    else: #else it will be the final 5th question, similar concept to above\n",
    "        return sentences[16] + \" \" +sentences[17]  \n",
    "    \n",
    "    "
   ]
  },
  {
   "cell_type": "markdown",
   "id": "daf465b0",
   "metadata": {},
   "source": [
    "# Talk with out Conversational Agent, Brainy:"
   ]
  },
  {
   "cell_type": "markdown",
   "id": "37761b7c",
   "metadata": {},
   "source": [
    "### Please be patient with Brainy. It might take it some time to read your text/listen to your input and reply with text and through the speakers. "
   ]
  },
  {
   "cell_type": "markdown",
   "id": "60f0dcb6",
   "metadata": {},
   "source": [
    "### Kindly note that in order to talk to Brainy through the microphone you need to send 'speak' as input and wait for Brainy to ask you to talk. "
   ]
  },
  {
   "cell_type": "code",
   "execution_count": 7,
   "id": "863b3ff7",
   "metadata": {},
   "outputs": [
    {
     "name": "stdout",
     "output_type": "stream",
     "text": [
      "hi\n",
      "Brainy says: Good morning!\n",
      "what is the coronavirus?\n",
      "Brainy says: Coronavirus disease 2019 (COVID-19) is a contagious disease caused by a virus, the severe acute respiratory syndrome coronavirus 2 (SARS-CoV-2).\n",
      "speak\n",
      "Brainy says: Talk\n",
      "Brainy says: Time is over, thanks.\n",
      "Text: hi\n",
      "Brainy says: Good morning!\n",
      "speak\n",
      "Brainy says: Talk\n",
      "Brainy says: Time is over, thanks.\n",
      "Text: hello\n",
      "Brainy says: Hello!\n",
      "speak\n",
      "Brainy says: Talk\n",
      "Brainy says: Time is over, thanks.\n",
      "Text: what is the coronavirus\n",
      "Brainy says: Coronavirus disease 2019 (COVID-19) is a contagious disease caused by a virus, the severe acute respiratory syndrome coronavirus 2 (SARS-CoV-2).\n",
      "speak\n",
      "Brainy says: Talk\n",
      "Brainy says: Time is over, thanks.\n",
      "Text: bye\n",
      "Brainy says: Goodbye human!\n"
     ]
    }
   ],
   "source": [
    "while True: #while loop for brainy\n",
    "    user = input() #we get the user input in the box\n",
    "    user = user.lower() #turn it to all lower so we can compare it easily with the lists\n",
    "\n",
    "    if user in greetings: #behavior if greeted, replies with a greeting through chat and audio\n",
    "        response = random.choice(greetings_response)   \n",
    "        print(\"Brainy says: \"+ response)\n",
    "        play(response)\n",
    "    elif user in speak: #behavior if signaled to listen to the user speaking\n",
    "        user = listen() #we run the listen command\n",
    "        if(user == \"Sorry, I did not get that.\"):\n",
    "            continue                                #if we didnt get a good response we take care of that in \n",
    "                                                    #the listen function so we just continue over the loop\n",
    "        elif user in greetings: #we check if its a greeting spoken from the user\n",
    "            response = random.choice(greetings_response)   \n",
    "            print(\"Brainy says: \"+ response)\n",
    "            play(response)\n",
    "            continue\n",
    "        elif user in goodbyes:  #we check if its a goodbye spoken from the user\n",
    "            response = random.choice(goodbye_response)\n",
    "            print(\"Brainy says: \"+ response)\n",
    "            play(response)\n",
    "            break #we break from the for loop\n",
    "        else:\n",
    "            response = similar(user) #behavior if spoken to a question normally\n",
    "            print(\"Brainy says: \"+ response)\n",
    "            play(response)\n",
    "    elif user in goodbyes: #behavior if farewelled, replies with a greeting through chat and audio\n",
    "        response = random.choice(goodbye_response)\n",
    "        print(\"Brainy says: \"+ response)\n",
    "        play(response)\n",
    "        break #we break from the for loop\n",
    "    else:\n",
    "        response = similar(user) #behavior if typed to a question normally\n",
    "        print(\"Brainy says: \"+ response)\n",
    "        play(response)"
   ]
  },
  {
   "cell_type": "code",
   "execution_count": null,
   "id": "029541cf",
   "metadata": {},
   "outputs": [],
   "source": []
  }
 ],
 "metadata": {
  "kernelspec": {
   "display_name": "Python 3 (ipykernel)",
   "language": "python",
   "name": "python3"
  },
  "language_info": {
   "codemirror_mode": {
    "name": "ipython",
    "version": 3
   },
   "file_extension": ".py",
   "mimetype": "text/x-python",
   "name": "python",
   "nbconvert_exporter": "python",
   "pygments_lexer": "ipython3",
   "version": "3.11.4"
  }
 },
 "nbformat": 4,
 "nbformat_minor": 5
}
